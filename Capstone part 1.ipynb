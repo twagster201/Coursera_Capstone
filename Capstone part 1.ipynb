{
    "cells": [
        {
            "cell_type": "markdown",
            "metadata": {
                "collapsed": true
            },
            "source": "## Introduction/Business Problem"
        },
        {
            "cell_type": "markdown",
            "metadata": {},
            "source": "We are planning to open a new upscale Indian restaurant in London, UK and wish to gain investment.  "
        },
        {
            "cell_type": "markdown",
            "metadata": {},
            "source": "Staring a new restaurant business in London can be risky.  There are numerous restauarants of this type with high competition, therefore we want to use real world data to analyse the distribution of restaurants across London to determine where might be an optimal location for the restuarant."
        },
        {
            "cell_type": "markdown",
            "metadata": {},
            "source": "## Data "
        },
        {
            "cell_type": "markdown",
            "metadata": {},
            "source": "Two datasets will be required for this analysis\n\n1. I will use the London borough data from wikipedia, it contains all borough names along with the latitude and longitude details.\n\nReference: https://en.wikipedia.org/wiki/List_of_London_boroughs\n"
        },
        {
            "cell_type": "markdown",
            "metadata": {},
            "source": "2. Foursquare venue information. \nThe London data will be used to obtain data from Foursquare, the API will be called using the London latitude and longitude details to download details of all food venues/restaurants in each London borough along with the type of venue and other useful informaiton that be used to decide on optimal restaurant location.  \n"
        },
        {
            "cell_type": "code",
            "execution_count": null,
            "metadata": {},
            "outputs": [],
            "source": ""
        }
    ],
    "metadata": {
        "kernelspec": {
            "display_name": "Python 3.7",
            "language": "python",
            "name": "python3"
        },
        "language_info": {
            "codemirror_mode": {
                "name": "ipython",
                "version": 3
            },
            "file_extension": ".py",
            "mimetype": "text/x-python",
            "name": "python",
            "nbconvert_exporter": "python",
            "pygments_lexer": "ipython3",
            "version": "3.7.10"
        }
    },
    "nbformat": 4,
    "nbformat_minor": 1
}